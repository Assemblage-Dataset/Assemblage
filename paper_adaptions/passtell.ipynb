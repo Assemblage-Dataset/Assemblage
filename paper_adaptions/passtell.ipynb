{
 "cells": [
  {
   "cell_type": "markdown",
   "metadata": {},
   "source": [
    "# Assemblage Passtell test code\n",
    "\n",
    "This notebook contains codes to evaluate [Passtell](https://github.com/zeropointdynamics/passtell) on [Assemblage](https://assemblage-dataset.net/) data.\n",
    "We will use the [Assemblage sample dataset](https://www.kaggle.com/datasets/changliuh7rfs5/assemblagedataset) for testing purpose. First, download the dataset and inflate the compressed files. Then, run this notebook to obtain the csv file for training and testing with author's codes."
   ]
  },
  {
   "cell_type": "code",
   "execution_count": 2,
   "metadata": {},
   "outputs": [],
   "source": [
    "import pandas as pd\n",
    "import sqlite3\n",
    "import pefile\n",
    "import capstone\n",
    "import hashlib\n",
    "from tqdm import tqdm"
   ]
  },
  {
   "cell_type": "code",
   "execution_count": 3,
   "metadata": {},
   "outputs": [],
   "source": [
    "def getmd5(s):\n",
    "    return hashlib.md5(s.encode()).hexdigest()"
   ]
  },
  {
   "cell_type": "code",
   "execution_count": 4,
   "metadata": {},
   "outputs": [
    {
     "name": "stderr",
     "output_type": "stream",
     "text": [
      "329702it [07:22, 744.58it/s] \n"
     ]
    }
   ],
   "source": [
    "db = sqlite3.connect('./sample.sqlite')\n",
    "cursor = db.cursor()\n",
    "data_list = []\n",
    "\n",
    "# iterate functions table, also get the associated file name, github url, toolset_version, optimization\n",
    "for x in tqdm(cursor.execute('''SELECT \n",
    "        f.name AS function_name,\n",
    "        b.file_name AS binary_file_name,\n",
    "        b.github_url,\n",
    "        b.toolset_version,\n",
    "        b.optimization,\n",
    "        r.start AS rva_start,\n",
    "        r.end AS rva_end,\n",
    "        b.path AS binary_path,\n",
    "        b.platform AS platform\n",
    "    FROM \n",
    "        functions f\n",
    "    JOIN \n",
    "        binaries b ON f.binary_id = b.id\n",
    "    LEFT JOIN \n",
    "        rvas r ON f.id = r.function_id;\n",
    "    ''')):\n",
    "    function_name = x[0]\n",
    "    binary_file_name = x[1]\n",
    "    github_url = x[2]\n",
    "    toolset_version = x[3]\n",
    "    optimization = x[4]\n",
    "    rva_start = x[5]\n",
    "    rva_end = x[6]\n",
    "    binary_path = x[7]\n",
    "    platform = x[8]\n",
    "    # Filter out non Windows and compiler inserted functions\n",
    "    if function_name.startswith(\"_\") or (not toolset_version.startswith(\"v1\")):\n",
    "        continue\n",
    "    function_bytes = pefile.PE(f\"sample/sample/{binary_path}\", fast_load=1).get_memory_mapped_image()[rva_start:rva_end]\n",
    "    data_list.append([binary_file_name, getmd5(github_url), toolset_version, optimization, function_name, rva_start, rva_end, platform, function_bytes])"
   ]
  },
  {
   "cell_type": "code",
   "execution_count": 5,
   "metadata": {},
   "outputs": [],
   "source": [
    "def mask_operands(insn):\n",
    "    masked_op_str = insn.op_str\n",
    "    \n",
    "    # Iterate through operands to identify imm and memory addresses\n",
    "    for op in insn.operands:\n",
    "        if op.type == capstone.x86.X86_OP_IMM:  # Immediate value\n",
    "            masked_op_str = masked_op_str.replace(f\"{op.imm}\", \"#IMM#\")\n",
    "        elif op.type == capstone.x86.X86_OP_MEM:  # Memory address\n",
    "            masked_op_str = masked_op_str.replace(f\"{op.mem.disp}\", \"#MEM#\")\n",
    "    \n",
    "    return masked_op_str"
   ]
  },
  {
   "cell_type": "code",
   "execution_count": 6,
   "metadata": {},
   "outputs": [],
   "source": [
    "for data in data_list:\n",
    "    binary_file_name, github_url, toolset_version, optimization, function_name, rva_start, rva_end, platform, function_bytes = data\n",
    "    if \"64\" in platform:\n",
    "        md = capstone.Cs(capstone.CS_ARCH_X86, capstone.CS_MODE_64)\n",
    "    else:\n",
    "        md = capstone.Cs(capstone.CS_ARCH_X86, capstone.CS_MODE_32)\n",
    "    md.detail = True\n",
    "    insts = []\n",
    "    for insn in md.disasm(function_bytes, rva_start):\n",
    "        masked_op_str = mask_operands(insn)\n",
    "        insts.append(masked_op_str)\n",
    "    \n",
    "    data.append(\";\".join(insts))\n",
    "    data.pop(-2)\n",
    "    data.pop(5)\n",
    "    data.pop(5)"
   ]
  },
  {
   "cell_type": "code",
   "execution_count": 7,
   "metadata": {},
   "outputs": [],
   "source": [
    "for x in data_list:\n",
    "    x.append(len(x[-1].split(\";\")))\n",
    "    x.pop(-3)"
   ]
  },
  {
   "cell_type": "code",
   "execution_count": 8,
   "metadata": {},
   "outputs": [],
   "source": [
    "# save to file\n",
    "df = pd.DataFrame(data_list, columns=['filename', 'suite', 'compiler', 'opt', 'function', 'insts', 'size'])\n",
    "\n",
    "df_original = pd.read_csv('../passtell/passtell_USENIX_ATC_22/balanced_dataset.csv')\n",
    "df_original = df_original.drop(columns=['Unnamed: 0'])\n",
    "df = pd.concat([df_original, df], ignore_index=True)\n",
    "# reive icc\n",
    "df = df[df['compiler'] != 'icc']\n",
    "df.to_csv('balanced_dataset_new.csv', index=1)"
   ]
  },
  {
   "cell_type": "code",
   "execution_count": null,
   "metadata": {},
   "outputs": [],
   "source": []
  }
 ],
 "metadata": {
  "kernelspec": {
   "display_name": "llm",
   "language": "python",
   "name": "python3"
  },
  "language_info": {
   "codemirror_mode": {
    "name": "ipython",
    "version": 3
   },
   "file_extension": ".py",
   "mimetype": "text/x-python",
   "name": "python",
   "nbconvert_exporter": "python",
   "pygments_lexer": "ipython3",
   "version": "3.10.14"
  }
 },
 "nbformat": 4,
 "nbformat_minor": 2
}
