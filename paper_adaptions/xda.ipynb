{
 "cells": [
  {
   "cell_type": "markdown",
   "metadata": {},
   "source": [
    "# Assemblage XDA test code\n",
    "\n",
    "This notebook contains codes to evaluate [XDA](https://github.com/CUMLSec/XDA) on [Assemblage](https://assemblage-dataset.net/) data."
   ]
  },
  {
   "cell_type": "markdown",
   "metadata": {},
   "source": [
    "The below code block gets XDA prediction files based on author's code, input folder is `data-raw/assm/topredict` and output file locates `data-raw/assm/xda_preds`.\n",
    "Please follow XDA setup [README](https://github.com/CUMLSec/XDA) first."
   ]
  },
  {
   "cell_type": "code",
   "execution_count": null,
   "metadata": {},
   "outputs": [],
   "source": [
    "from fairseq.models.roberta import RobertaModel\n",
    "import os\n",
    "from collections import defaultdict\n",
    "from colorama import Fore, Back, Style\n",
    "import torch\n",
    "import sys\n",
    "\n",
    "XDA_PRED_PATH = \"./data-raw/assm/xda_preds\"\n",
    "\n",
    "chunk_size = 500\n",
    "\n",
    "def int2hex(s):\n",
    "    return s\n",
    "\n",
    "def predict(filename, model):\n",
    "    print(f\"Predicting {filename}\")\n",
    "    if os.path.exists(os.path.join(XDA_PRED_PATH, os.path.basename(filename))):\n",
    "        print(f\"{filename} already predicted\")\n",
    "        return\n",
    "\n",
    "    with open(filename, 'r') as f:\n",
    "        lines = f.readlines()\n",
    "    total = []\n",
    "    for line in lines:\n",
    "        total.append(line.strip().lower())\n",
    "\n",
    "    func_start = []\n",
    "    func_end = []\n",
    "\n",
    "    xda_pred = []\n",
    "\n",
    "    for i in tqdm(range(0, len(total)+chunk_size, chunk_size)):\n",
    "        tokens = total[i:i + chunk_size]\n",
    "        if len(tokens) == 0:\n",
    "            break\n",
    "\n",
    "        encoded_tokens = model.encode(' '.join(tokens))\n",
    "        logprobs = model.predict('funcbound', encoded_tokens)\n",
    "        labels = logprobs.argmax(dim=2).view(-1).data\n",
    "\n",
    "\n",
    "        for i, (token, label) in enumerate(zip(tokens, labels)):\n",
    "            if label == 0:\n",
    "                xda_pred.append(f\"{token} -\")\n",
    "            elif label == 1:\n",
    "                func_end.append((i, token))\n",
    "                xda_pred.append(f\"{token} R\")\n",
    "            elif label == 2:\n",
    "                func_start.append((i, token))\n",
    "                xda_pred.append(f\"{token} F\")\n",
    "    with open(os.path.join(XDA_PRED_PATH, os.path.basename(filename)), 'w') as f:\n",
    "        f.write('\\n'.join(xda_pred))\n",
    "\n",
    "roberta = RobertaModel.from_pretrained('checkpoints/finetune_msvs_funcbound_64', 'checkpoint_best.pt',\n",
    "                                       'data-bin/funcbound_msvs_64', bpe=None, user_dir='finetune_tasks')\n",
    "\n",
    "\n",
    "from tqdm import tqdm\n",
    "import multiprocessing\n",
    "\n",
    "pool = multiprocessing.Pool(32)\n",
    "files = os.listdir('data-raw/assm/topredict/')\n",
    "import random\n",
    "random.shuffle(files)\n",
    "for x in tqdm(files):\n",
    "    pool.apply_async(predict, args=(f'data-raw/assm/topredict/{x}', roberta))\n",
    "pool.close()\n",
    "pool.join()\n"
   ]
  },
  {
   "cell_type": "markdown",
   "metadata": {},
   "source": [
    "Then evaluate the F1 score with script provided by [XDA](https://github.com/CUMLSec/XDA/blob/main/scripts/play/play_func_bound.py)"
   ]
  }
 ],
 "metadata": {
  "language_info": {
   "name": "python"
  }
 },
 "nbformat": 4,
 "nbformat_minor": 2
}
